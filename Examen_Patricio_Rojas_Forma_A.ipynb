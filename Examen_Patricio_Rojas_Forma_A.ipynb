
{
  "nbformat": 4,
  "nbformat_minor": 0,
  "metadata": {
    "colab": {
      "provenance": []
    },
    "kernelspec": {
      "name": "python3",
      "display_name": "Python 3"
    },
    "language_info": {
      "name": "python"
    }
  },
  "cells": [
    {
      "cell_type": "code",
      "execution_count": 53,
      "metadata": {
        "colab": {
          "base_uri": "https://localhost:8080/",
          "height": 669
        },
        "id": "VgevJ0clsX0I",
        "outputId": "b48f030f-999c-4857-d0b0-59ef52bc9532"
      },
      "outputs": [
        {
          "name": "stdout",
          "output_type": "stream",
          "text": [
            "¡Bienvenido al menú de venta de departamentos!\n",
            "1. Comprar departamento\n",
            "2. Mostrar departamentos disponibles\n",
            "3. Ver listado de compradores\n",
            "4. Mostrar ganancias totales\n",
            "5. Salir\n",
            "Seleccione una opción: 1\n",
            "Ingrese el piso del departamento (1 al 10): 8\n",
            "Debe seleccionar un piso del 1 al 10. Vuelva a intentarlo.\n",
            "Ingrese el piso del departamento (1 al 10): 8\n",
            "Debe seleccionar un piso del 1 al 10. Vuelva a intentarlo.\n",
            "Ingrese el piso del departamento (1 al 10): 8\n",
            "Debe seleccionar un piso del 1 al 10. Vuelva a intentarlo.\n",
            "Ingrese el piso del departamento (1 al 10): 8\n",
            "Debe seleccionar un piso del 1 al 10. Vuelva a intentarlo.\n",
            "Ingrese el piso del departamento (1 al 10): 8\n",
            "Debe seleccionar un piso del 1 al 10. Vuelva a intentarlo.\n",
            "Ingrese el piso del departamento (1 al 10): \n"
          ]
        },
        {
          "output_type": "error",
          "ename": "ValueError",
          "evalue": "ignored",
          "traceback": [
            "\u001b[0;31m---------------------------------------------------------------------------\u001b[0m",
            "\u001b[0;31mValueError\u001b[0m                                Traceback (most recent call last)",
            "\u001b[0;32m<ipython-input-53-e398f2e998c9>\u001b[0m in \u001b[0;36m<cell line: 50>\u001b[0;34m()\u001b[0m\n\u001b[1;32m     58\u001b[0m \u001b[0;34m\u001b[0m\u001b[0m\n\u001b[1;32m     59\u001b[0m     \u001b[0;32mif\u001b[0m \u001b[0mopcion\u001b[0m \u001b[0;34m==\u001b[0m \u001b[0;34m\"1\"\u001b[0m\u001b[0;34m:\u001b[0m\u001b[0;34m\u001b[0m\u001b[0;34m\u001b[0m\u001b[0m\n\u001b[0;32m---> 60\u001b[0;31m       \u001b[0mcomprar_departamento\u001b[0m\u001b[0;34m(\u001b[0m\u001b[0mubicaciones\u001b[0m\u001b[0;34m,\u001b[0m \u001b[0mprecios\u001b[0m\u001b[0;34m,\u001b[0m \u001b[0mcompradores\u001b[0m\u001b[0;34m)\u001b[0m\u001b[0;34m\u001b[0m\u001b[0;34m\u001b[0m\u001b[0m\n\u001b[0m\u001b[1;32m     61\u001b[0m \u001b[0;34m\u001b[0m\u001b[0m\n\u001b[1;32m     62\u001b[0m     \u001b[0;32melif\u001b[0m \u001b[0mopcion\u001b[0m \u001b[0;34m==\u001b[0m \u001b[0;34m\"2\"\u001b[0m\u001b[0;34m:\u001b[0m\u001b[0;34m\u001b[0m\u001b[0;34m\u001b[0m\u001b[0m\n",
            "\u001b[0;32m<ipython-input-53-e398f2e998c9>\u001b[0m in \u001b[0;36mcomprar_departamento\u001b[0;34m(ubicaciones, precios, compradores)\u001b[0m\n\u001b[1;32m     10\u001b[0m     \u001b[0;32mwhile\u001b[0m \u001b[0mpiso\u001b[0m \u001b[0;32mnot\u001b[0m \u001b[0;32min\u001b[0m \u001b[0;34m[\u001b[0m\u001b[0;36m1\u001b[0m\u001b[0;34m,\u001b[0m \u001b[0;36m10\u001b[0m\u001b[0;34m]\u001b[0m\u001b[0;34m:\u001b[0m\u001b[0;34m\u001b[0m\u001b[0;34m\u001b[0m\u001b[0m\n\u001b[1;32m     11\u001b[0m         \u001b[0mprint\u001b[0m\u001b[0;34m(\u001b[0m\u001b[0;34m\"Debe seleccionar un piso del 1 al 10. Vuelva a intentarlo.\"\u001b[0m\u001b[0;34m)\u001b[0m\u001b[0;34m\u001b[0m\u001b[0;34m\u001b[0m\u001b[0m\n\u001b[0;32m---> 12\u001b[0;31m         \u001b[0mpiso\u001b[0m \u001b[0;34m=\u001b[0m \u001b[0mint\u001b[0m\u001b[0;34m(\u001b[0m\u001b[0minput\u001b[0m\u001b[0;34m(\u001b[0m\u001b[0;34m\"Ingrese el piso del departamento (1 al 10): \"\u001b[0m\u001b[0;34m)\u001b[0m\u001b[0;34m)\u001b[0m\u001b[0;34m\u001b[0m\u001b[0;34m\u001b[0m\u001b[0m\n\u001b[0m\u001b[1;32m     13\u001b[0m \u001b[0;34m\u001b[0m\u001b[0m\n\u001b[1;32m     14\u001b[0m     \u001b[0mdepartamentos_comprados\u001b[0m \u001b[0;34m=\u001b[0m \u001b[0;34m[\u001b[0m\u001b[0;34m]\u001b[0m\u001b[0;34m\u001b[0m\u001b[0;34m\u001b[0m\u001b[0m\n",
            "\u001b[0;31mValueError\u001b[0m: invalid literal for int() with base 10: ''"
          ]
        }
      ],
      "source": [
        "def mostrar_departamentos(ubicaciones):\n",
        "    print(\"DEPARTAMENTO\")\n",
        "    for i in range(10):\n",
        "        print(i, end=' ')\n",
        "        if i % 10 == 0:\n",
        "            print()\n",
        "\n",
        "def comprar_departamento(ubicaciones, precios, compradores):\n",
        "    piso = int(input(\"Ingrese el piso del departamento (1 al 10): \"))\n",
        "    while piso not in [1, 10]:\n",
        "        print(\"Debe seleccionar un piso del 1 al 10. Vuelva a intentarlo.\")\n",
        "        piso = int(input(\"Ingrese el piso del departamento (1 al 10): \"))\n",
        "\n",
        "    departamentos_comprados = []\n",
        "    for _ in range(piso):\n",
        "        print(f\"Departamentos disponibles: {ubicaciones.count(False)}\")\n",
        "        mostrar_departamentos(ubicaciones)\n",
        "\n",
        "        tipo = (input(\"Ingrese el tipo de departamento deseado (A, B, C o D): \"))\n",
        "\n",
        "        departamentos_comprados.append(tipo)\n",
        "\n",
        "    run = input(\"Ingrese los RUN de los asistentes separados por espacios: \")\n",
        "\n",
        "    compradores.append((run, departamentos_comprados))\n",
        "\n",
        "    precio_total = sum(precios[asiento] for asiento in departamentos_comprados)\n",
        "\n",
        "    print(\"Ha comprado el departamento.\")\n",
        "\n",
        "def mostrar_ubicaciones_disponibles(ubicaciones):\n",
        "    print(\"DEPARTAMENTOS DISPONIBLES\")\n",
        "    mostrar_departamentos(ubicaciones)\n",
        "\n",
        "def lista_compradores(compradores):\n",
        "    print(\"Listado de compradores:\")\n",
        "    for comprador in compradores:\n",
        "        print(\"RUNs:\", ', '.join(comprador[0]))\n",
        "        print(\"Departamentos comprados:\", [piso+1 for piso in comprador[1]])\n",
        "\n",
        "def mostrar_ganancias(compradores, precios):\n",
        "    ganancias = sum(precios[tipo] for comprador in compradores for tipo in comprador[1])\n",
        "    print(\"Ganancias: \", ganancias)\n",
        "\n",
        "ubicaciones = [False]\n",
        "precios = [3800] + [3000] + [2800] + [3500]\n",
        "compradores = []\n",
        "\n",
        "print(\"¡Bienvenido al menú de venta de departamentos!\")\n",
        "while True:\n",
        "    print(\"1. Comprar departamento\")\n",
        "    print(\"2. Mostrar departamentos disponibles\")\n",
        "    print(\"3. Ver listado de compradores\")\n",
        "    print(\"4. Mostrar ganancias totales\")\n",
        "    print(\"5. Salir\")\n",
        "\n",
        "    opcion = input(\"Seleccione una opción: \")\n",
        "\n",
        "    if opcion == \"1\":\n",
        "      comprar_departamento(ubicaciones, precios, compradores)\n",
        "\n",
        "    elif opcion == \"2\":\n",
        "      mostrar_departamentos(ubicaciones)\n",
        "\n",
        "    elif opcion ==\"3\":\n",
        "      lista_compradores(compradores)\n",
        "\n",
        "    elif opcion == \"4\":\n",
        "      mostrar_ganancias(compradores, precios)\n",
        "\n",
        "    elif opcion == \"5\":\n",
        "      print(\"¡Hasta luego!\")\n",
        "      print(\"Patricio Rojas\")\n",
        "      print(\"12 / 07 / 2023\")\n",
        "      break"
      ]
    }
  ]
}
